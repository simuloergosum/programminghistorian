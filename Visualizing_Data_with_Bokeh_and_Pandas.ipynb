{
  "nbformat": 4,
  "nbformat_minor": 0,
  "metadata": {
    "colab": {
      "provenance": []
    },
    "kernelspec": {
      "name": "python3",
      "display_name": "Python 3"
    },
    "language_info": {
      "name": "python"
    }
  },
  "cells": [
    {
      "cell_type": "markdown",
      "source": [
        "# **Основи бібліотеки Bokeh**"
      ],
      "metadata": {
        "id": "cM0jlRmMhxaW"
      }
    },
    {
      "cell_type": "markdown",
      "source": [
        "**Ваша перша діаграма**"
      ],
      "metadata": {
        "id": "jWt_WuO6chbG"
      }
    },
    {
      "cell_type": "code",
      "source": [
        "# my_first_plot.py\n",
        "from bokeh.plotting import figure, output_file, show\n",
        "\n",
        "output_file('my_first_graph.html')\n",
        "\n",
        "x = [1, 3, 5, 7]\n",
        "y = [2, 4, 6, 8]\n",
        "\n",
        "p = figure()\n",
        "\n",
        "p.scatter(x, y, size=10, color='red', legend_label='circle')\n",
        "p.line(x, y, color='blue', legend_label='line')\n",
        "p.scatter(y, x, color='gold', size=10, legend_label='triangle')\n",
        "\n",
        "p.legend.click_policy = 'hide'\n",
        "\n",
        "show(p)"
      ],
      "metadata": {
        "id": "-8pkMImNdNjn"
      },
      "execution_count": null,
      "outputs": []
    },
    {
      "cell_type": "markdown",
      "source": [
        "# **Bokeh та Pandas: вивчення набору даних “Масовані ракетні удари по Україні”**\n"
      ],
      "metadata": {
        "id": "3DsPX2LpiEF2"
      }
    },
    {
      "cell_type": "markdown",
      "source": [
        "**Завантаження даних у Pandas**"
      ],
      "metadata": {
        "id": "1EVPHA-DdNul"
      }
    },
    {
      "cell_type": "code",
      "source": [
        "#loading_data.py\n",
        "import pandas as pd\n",
        "\n",
        "df = pd.read_csv('missile_attacks_daily.csv', sep=';')\n",
        "print(df)"
      ],
      "metadata": {
        "id": "YQpOQUSNdP6-",
        "colab": {
          "base_uri": "https://localhost:8080/"
        },
        "outputId": "4851136b-c82d-43ff-f08b-c00b3babfd46"
      },
      "execution_count": null,
      "outputs": [
        {
          "output_type": "stream",
          "name": "stdout",
          "text": [
            "     time_start    time_end               model    launch_place  \\\n",
            "0    2023-06-08  2023-06-08              Kalibr       Black Sea   \n",
            "1    2024-11-11  2024-11-12           X-59/X-69    Kursk oblast   \n",
            "2    2024-10-15  2024-10-16                X-59    Kursk oblast   \n",
            "3    2024-09-12  2024-09-12          Iskander-M    Kursk oblast   \n",
            "4    2024-09-11  2024-09-11           X-59/X-69  Bryansk oblast   \n",
            "..          ...         ...                 ...             ...   \n",
            "614  2023-12-11  2023-12-11                X-59             NaN   \n",
            "615  2023-12-05  2023-12-05  Reconnaissance UAV             NaN   \n",
            "616  2023-11-21  2023-11-22                X-22      south-east   \n",
            "617  2023-08-27  2023-08-27      Shahed-136/131             NaN   \n",
            "618  2023-08-12  2023-08-12      Shahed-136/131      south-east   \n",
            "\n",
            "                  target  launched  destroyed  not_reach_goal  \n",
            "0        Cherkasy oblast       2.0          0             NaN  \n",
            "1       Chernihiv oblast       2.0          0             NaN  \n",
            "2       Chernihiv oblast       1.0          0             NaN  \n",
            "3       Chernihiv oblast       2.0          0             NaN  \n",
            "4       Chernihiv oblast       1.0          0             NaN  \n",
            "..                   ...       ...        ...             ...  \n",
            "614  Zaporizhzhia oblast       1.0          1             NaN  \n",
            "615  Zaporizhzhia oblast       1.0          1             NaN  \n",
            "616  Zaporizhzhia oblast       1.0          0             NaN  \n",
            "617  Zaporizhzhia oblast       2.0          2             NaN  \n",
            "618  Zaporizhzhia oblast       5.0          3             NaN  \n",
            "\n",
            "[619 rows x 8 columns]\n"
          ]
        }
      ]
    },
    {
      "cell_type": "markdown",
      "source": [
        "**The Bokeh ColumnDataSource**"
      ],
      "metadata": {
        "id": "Z2flxPurdrmA"
      }
    },
    {
      "cell_type": "code",
      "source": [
        "# column_datasource.py\n",
        "import pandas as pd\n",
        "from bokeh.plotting import figure, output_file, show\n",
        "from bokeh.models import ColumnDataSource\n",
        "from bokeh.models.tools import HoverTool\n",
        "\n",
        "output_file('columndatasource_example.html')\n",
        "\n",
        "df = pd.read_csv('missile_attacks_daily.csv', sep=';')\n",
        "\n",
        "sample = df.sample(50)\n",
        "source = ColumnDataSource(sample)\n",
        "\n",
        "p = figure()\n",
        "p.scatter(x='launched', y='destroyed',\n",
        "         source=source,\n",
        "         size=10, color='green')\n",
        "\n",
        "hover = HoverTool()\n",
        "hover.tooltips=[\n",
        "    ('Дата початку атаки', '@time_start'),\n",
        "    ('Кількість запущених ракет чи БПЛА', '@launched'),\n",
        "    ('Кількість знищених ракет чи БПЛА', '@destroyed'),\n",
        "    ('Тип ракет чи БПЛА', '@model')\n",
        "]\n",
        "\n",
        "p.add_tools(hover)\n",
        "\n",
        "show(p)"
      ],
      "metadata": {
        "id": "2hVd48MCdtL1"
      },
      "execution_count": null,
      "outputs": []
    },
    {
      "cell_type": "markdown",
      "source": [
        "# **Категорійні дані та стовпчикові діаграми: атаки за містами чи областями**"
      ],
      "metadata": {
        "id": "igD0v2zxeROA"
      }
    },
    {
      "cell_type": "code",
      "source": [
        "#launched_on_target.py\n",
        "import pandas as pd\n",
        "from bokeh.plotting import figure, output_file, show\n",
        "from bokeh.models import ColumnDataSource\n",
        "from bokeh.models.tools import HoverTool\n",
        "\n",
        "from bokeh.palettes import turbo\n",
        "from bokeh.transform import factor_cmap\n",
        "output_file('launched_on_target.html')\n",
        "\n",
        "df = pd.read_csv('missile_attacks_daily.csv', sep=';')\n",
        "\n",
        "grouped = df.groupby('target')[['launched', 'destroyed', 'not_reach_goal']].sum()\n",
        "\n",
        "# print(grouped)\n",
        "\n",
        "source = ColumnDataSource(grouped)\n",
        "location = source.data['target'].tolist()\n",
        "p = figure(x_range=location)\n",
        "\n",
        "color_map = factor_cmap(field_name='target',\n",
        "                    palette=turbo(29), factors=location)\n",
        "\n",
        "p.vbar(x='target', top='launched', source=source, width=0.70, color=color_map)\n",
        "\n",
        "p.title.text = 'Кількість атак відповідно до цілей'\n",
        "p.xaxis.axis_label = 'Місто чи область'\n",
        "p.yaxis.axis_label = 'Кількість запущених ракет чи БПЛА'\n",
        "p.xaxis.major_label_orientation = 'vertical'\n",
        "\n",
        "hover = HoverTool()\n",
        "hover.tooltips = [\n",
        "    ('З них', '@destroyed було знищено / @not_reach_goal не досягли цілі')]\n",
        "\n",
        "hover.mode = 'vline'\n",
        "\n",
        "p.add_tools(hover)\n",
        "\n",
        "show(p)"
      ],
      "metadata": {
        "id": "yH2eqNqve4Xy"
      },
      "execution_count": null,
      "outputs": []
    },
    {
      "cell_type": "markdown",
      "source": [
        "# **Стовпчикові діаграми з накопиченням та дані підвибірки: атаки за областями**"
      ],
      "metadata": {
        "id": "D1xLKb4gfXDP"
      }
    },
    {
      "cell_type": "code",
      "source": [
        "#attack_results.py\n",
        "import pandas as pd\n",
        "from bokeh.plotting import figure, output_file, show\n",
        "from bokeh.models import ColumnDataSource\n",
        "from bokeh.palettes import Spectral3\n",
        "\n",
        "output_file('attack_results’.html')\n",
        "\n",
        "df = pd.read_csv('missile_attacks_daily.csv', sep=';')\n",
        "\n",
        "filter = df['target'].isin(('Kyiv oblast', 'Odesa oblast'))\n",
        "df = df[filter]\n",
        "\n",
        "# print(df.shape)\n",
        "\n",
        "grouped = df.groupby('target')[['launched', 'destroyed', 'not_reach_goal']].sum()\n",
        "\n",
        "source = ColumnDataSource(grouped)\n",
        "location = source.data['target'].tolist()\n",
        "p = figure(x_range=location)\n",
        "\n",
        "p.vbar_stack(stackers=['launched', 'destroyed', 'not_reach_goal'],\n",
        "             x='target', source=source,\n",
        "             legend_label = ['Запущені', 'Знищені', 'Не досягли цілі'],\n",
        "             width=0.5, color=Spectral3)\n",
        "\n",
        "p.title.text ='Результати атак'\n",
        "p.legend.location = 'bottom_left'\n",
        "\n",
        "p.xaxis.axis_label = 'Цілі'\n",
        "p.xgrid.grid_line_color = None\t#remove the x grid lines\n",
        "\n",
        "p.yaxis.axis_label = 'Кількість ракет чи БПЛА'\n",
        "\n",
        "show(p)"
      ],
      "metadata": {
        "id": "BFZ3ETnoffDC"
      },
      "execution_count": null,
      "outputs": []
    },
    {
      "cell_type": "markdown",
      "source": [
        "# **Часові ряди та анотації: атаки у часі**"
      ],
      "metadata": {
        "id": "MLFzZcCcfsI6"
      }
    },
    {
      "cell_type": "code",
      "source": [
        "#my_first_timeseries.py\n",
        "import pandas as pd\n",
        "from bokeh.plotting import figure, output_file, show\n",
        "from bokeh.models import ColumnDataSource\n",
        "from bokeh.palettes import Spectral3\n",
        "output_file('simple_timeseries_plot.html')\n",
        "\n",
        "df = pd.read_csv('missile_attacks_daily.csv', sep=';')\n",
        "\n",
        "# Переконуємося, що time_start має формат datetime\n",
        "df['time_start'] = pd.to_datetime(df['time_start'], format='ISO8601')\n",
        "\n",
        "grouped = df.groupby('time_start')[['launched', 'destroyed', 'not_reach_goal']].sum()\n",
        "\n",
        "print(grouped)\n",
        "source = ColumnDataSource(grouped)\n",
        "\n",
        "p = figure(x_axis_type='datetime')\n",
        "\n",
        "p.line(x='time_start', y='launched', line_width=2, source=source, legend_label='Запущені')\n",
        "p.line(x='time_start', y='destroyed', line_width=2, source=source, color=Spectral3[1], legend_label='Знищені')\n",
        "p.line(x='time_start', y='not_reach_goal', line_width=2, source=source, color=Spectral3[2], legend_label='Не досягли цілі')\n",
        "\n",
        "p.yaxis.axis_label = 'Кількість ракет чи БПЛА'\n",
        "\n",
        "show(p)"
      ],
      "metadata": {
        "id": "a1Q1mxECft-W"
      },
      "execution_count": null,
      "outputs": []
    },
    {
      "cell_type": "markdown",
      "source": [
        "**Повторна вибірка даних часових рядів**"
      ],
      "metadata": {
        "id": "uTZkivSBf2fd"
      }
    },
    {
      "cell_type": "code",
      "source": [
        "#my_first_timeseries.py\n",
        "import pandas as pd\n",
        "from bokeh.plotting import figure, output_file, show\n",
        "from bokeh.models import ColumnDataSource\n",
        "from bokeh.palettes import TolRainbow3\n",
        "output_file('simple_timeseries_plot.html')\n",
        "\n",
        "df = pd.read_csv('missile_attacks_daily.csv', sep=';')\n",
        "\n",
        "#make sure time_start is a datetime format\n",
        "df['time_start'] = pd.to_datetime(df['time_start'], format='ISO8601')\n",
        "\n",
        "# grouped = df.groupby('time_start')[['launched', 'destroyed', 'not_reach_goal']].sum()\n",
        "grouped = df.groupby(pd.Grouper(key='time_start', freq='M'))[['launched', 'destroyed', 'not_reach_goal']].sum()\n",
        "\n",
        "print(grouped)\n",
        "source = ColumnDataSource(grouped)\n",
        "\n",
        "p = figure(x_axis_type='datetime')\n",
        "\n",
        "p.line(x='time_start', y='launched', line_width=2, source=source, color=TolRainbow3[0], legend_label='Запущені')\n",
        "p.line(x='time_start', y='destroyed', line_width=2, source=source, color=TolRainbow3[1], legend_label='Знищені')\n",
        "p.line(x='time_start', y='not_reach_goal', line_width=2, source=source, color=TolRainbow3[2], legend_label='Не досягли цілі')\n",
        "p.legend.location = 'top_left'\n",
        "p.yaxis.axis_label = 'Кількість ракет чи БПЛА'\n",
        "\n",
        "show(p)"
      ],
      "metadata": {
        "id": "p8lbyK44f7V3"
      },
      "execution_count": null,
      "outputs": []
    },
    {
      "cell_type": "markdown",
      "source": [
        "**Анотування тенденцій у сюжетах**"
      ],
      "metadata": {
        "id": "Kmasd9PggGcZ"
      }
    },
    {
      "cell_type": "code",
      "source": [
        "# annotating_trends.py\n",
        "import pandas as pd\n",
        "from bokeh.plotting import figure, output_file, show\n",
        "from bokeh.models import ColumnDataSource\n",
        "from datetime import datetime\n",
        "from bokeh.palettes import TolRainbow3\n",
        "output_file('annotating_trends.html')\n",
        "\n",
        "df = pd.read_csv('missile_attacks_daily.csv', sep=';')\n",
        "\n",
        "#filter for Kyiv oblast and Odesa oblast\n",
        "filter = df['target'].isin(('Kyiv oblast', 'Odesa oblast'))\n",
        "df = df[filter]\n",
        "\n",
        "df['time_start'] = pd.to_datetime(df['time_start'], format='ISO8601')\n",
        "group = df.groupby(pd.Grouper(key='time_start', freq='M'))[['launched', 'destroyed', 'not_reach_goal']].sum()\n",
        "\n",
        "source = ColumnDataSource(group)\n",
        "\n",
        "p = figure(x_axis_type=\"datetime\")\n",
        "\n",
        "p.line(x='time_start', y='launched', line_width=2, source=source, color=TolRainbow3[0], legend_label='Запущені')\n",
        "p.line(x='time_start', y='destroyed', line_width=2, source=source, color=TolRainbow3[1], legend_label='Знищені')\n",
        "p.line(x='time_start', y='not_reach_goal', line_width=2, source=source, color=TolRainbow3[2], legend_label='Не досягли цілі')\n",
        "p.legend.location = 'top_left'\n",
        "\n",
        "p.title.text = 'Атаки по Київській та Одеській областях'\n",
        "\n",
        "p.yaxis.axis_label = 'Кількість ракет чи БПЛА'\n",
        "\n",
        "show(p)"
      ],
      "metadata": {
        "id": "b4oJdG2HgKdd"
      },
      "execution_count": null,
      "outputs": []
    },
    {
      "cell_type": "markdown",
      "source": [
        "**Атаки по Київській області**"
      ],
      "metadata": {
        "id": "sV-6GcWvRN-R"
      }
    },
    {
      "cell_type": "code",
      "source": [
        "import pandas as pd\n",
        "from bokeh.plotting import figure, output_file, show\n",
        "from bokeh.models import ColumnDataSource\n",
        "from datetime import datetime\n",
        "from bokeh.palettes import TolRainbow3\n",
        "output_file('annotating_trends_1.html')\n",
        "\n",
        "df = pd.read_csv('missile_attacks_daily.csv', sep=';')\n",
        "\n",
        "#filter for Kyiv oblast\n",
        "filter = df['target']=='Kyiv oblast'\n",
        "df = df[filter]\n",
        "\n",
        "df['time_start'] = pd.to_datetime(df['time_start'], format='ISO8601')\n",
        "group = df.groupby(pd.Grouper(key='time_start', freq='M'))[['launched', 'destroyed', 'not_reach_goal']].sum()\n",
        "\n",
        "source = ColumnDataSource(group)\n",
        "\n",
        "p = figure(x_axis_type=\"datetime\")\n",
        "\n",
        "p.line(x='time_start', y='launched', line_width=2, source=source, color=TolRainbow3[0], legend_label='Запущені')\n",
        "p.line(x='time_start', y='destroyed', line_width=2, source=source, color=TolRainbow3[1], legend_label='Знищені')\n",
        "p.line(x='time_start', y='not_reach_goal', line_width=2, source=source, color=TolRainbow3[2], legend_label='Не досягли цілі')\n",
        "p.legend.location = 'top_left'\n",
        "\n",
        "p.title.text = 'Атаки по Київській області'\n",
        "\n",
        "p.yaxis.axis_label = 'Кількість ракет чи БПЛА'\n",
        "\n",
        "show(p)"
      ],
      "metadata": {
        "id": "rUG2aMgkjOJa"
      },
      "execution_count": null,
      "outputs": []
    },
    {
      "cell_type": "markdown",
      "source": [
        "**Атаки по Одеській області**"
      ],
      "metadata": {
        "id": "QolfPIYcRWLI"
      }
    },
    {
      "cell_type": "code",
      "source": [
        "import pandas as pd\n",
        "from bokeh.plotting import figure, output_file, show\n",
        "from bokeh.models import ColumnDataSource\n",
        "from datetime import datetime\n",
        "from bokeh.palettes import TolRainbow3\n",
        "output_file('annotating_trends_2.html')\n",
        "\n",
        "df = pd.read_csv('missile_attacks_daily.csv', sep=';')\n",
        "\n",
        "#filter for Odesa oblast\n",
        "filter = df['target']=='Odesa oblast'\n",
        "df = df[filter]\n",
        "\n",
        "df['time_start'] = pd.to_datetime(df['time_start'], format='ISO8601')\n",
        "group = df.groupby(pd.Grouper(key='time_start', freq='M'))[['launched', 'destroyed', 'not_reach_goal']].sum()\n",
        "\n",
        "source = ColumnDataSource(group)\n",
        "\n",
        "p = figure(x_axis_type=\"datetime\")\n",
        "\n",
        "p.line(x='time_start', y='launched', line_width=2, source=source, color=TolRainbow3[0], legend_label='Запущені')\n",
        "p.line(x='time_start', y='destroyed', line_width=2, source=source, color=TolRainbow3[1], legend_label='Знищені')\n",
        "p.line(x='time_start', y='not_reach_goal', line_width=2, source=source, color=TolRainbow3[2], legend_label='Не досягли цілі')\n",
        "p.legend.location = 'top_left'\n",
        "\n",
        "p.title.text = 'Атаки по Одеській області'\n",
        "\n",
        "p.yaxis.axis_label = 'Кількість ракет чи БПЛА'\n",
        "\n",
        "show(p)"
      ],
      "metadata": {
        "id": "hSWSPca5QBSt"
      },
      "execution_count": null,
      "outputs": []
    },
    {
      "cell_type": "markdown",
      "source": [
        "**Атаки по Київській області із доданою анотацією**"
      ],
      "metadata": {
        "id": "KIAqD80lRgwL"
      }
    },
    {
      "cell_type": "code",
      "source": [
        "import pandas as pd\n",
        "from bokeh.plotting import figure, output_file, show\n",
        "from bokeh.models import ColumnDataSource\n",
        "from datetime import datetime\n",
        "from bokeh.palettes import TolRainbow3\n",
        "from bokeh.models import BoxAnnotation\n",
        "output_file('annotating_trends_1_1.html')\n",
        "\n",
        "df = pd.read_csv('missile_attacks_daily.csv', sep=';')\n",
        "\n",
        "#filter for Kyiv oblast\n",
        "filter = df['target']=='Kyiv oblast'\n",
        "df = df[filter]\n",
        "\n",
        "df['time_start'] = pd.to_datetime(df['time_start'], format='ISO8601')\n",
        "group = df.groupby(pd.Grouper(key='time_start', freq='M'))[['launched', 'destroyed', 'not_reach_goal']].sum()\n",
        "\n",
        "source = ColumnDataSource(group)\n",
        "\n",
        "p = figure(x_axis_type=\"datetime\")\n",
        "\n",
        "p.line(x='time_start', y='launched', line_width=2, source=source, color=TolRainbow3[0], legend_label='Запущені')\n",
        "p.line(x='time_start', y='destroyed', line_width=2, source=source, color=TolRainbow3[1], legend_label='Знищені')\n",
        "p.line(x='time_start', y='not_reach_goal', line_width=2, source=source, color=TolRainbow3[2], legend_label='Не досягли цілі')\n",
        "p.legend.location = 'top_left'\n",
        "\n",
        "p.title.text = 'Атаки по Київській області'\n",
        "\n",
        "p.yaxis.axis_label = 'Кількість ракет чи БПЛА'\n",
        "\n",
        "box_left = pd.to_datetime('2024-7-1')\n",
        "box_right = pd.to_datetime('2024-9-1')\n",
        "\n",
        "box = BoxAnnotation(left=box_left, right=box_right,\n",
        "                    line_width=1, line_color='black', line_dash='dashed',\n",
        "                    fill_alpha=0.2, fill_color='orange')\n",
        "\n",
        "p.add_layout(box)\n",
        "\n",
        "show(p)"
      ],
      "metadata": {
        "id": "cWKi6mlnQSgP"
      },
      "execution_count": null,
      "outputs": []
    },
    {
      "cell_type": "markdown",
      "source": [
        "**Атаки по Одеській області із доданою анотацією**"
      ],
      "metadata": {
        "id": "kVQUYE5FRvVV"
      }
    },
    {
      "cell_type": "code",
      "source": [
        "import pandas as pd\n",
        "from bokeh.plotting import figure, output_file, show\n",
        "from bokeh.models import ColumnDataSource\n",
        "from datetime import datetime\n",
        "from bokeh.palettes import TolRainbow3\n",
        "from bokeh.models import BoxAnnotation\n",
        "output_file('annotating_trends_2_2.html')\n",
        "\n",
        "df = pd.read_csv('missile_attacks_daily.csv', sep=';')\n",
        "\n",
        "#filter for Odesa oblast\n",
        "filter = df['target']=='Odesa oblast'\n",
        "df = df[filter]\n",
        "\n",
        "df['time_start'] = pd.to_datetime(df['time_start'], format='ISO8601')\n",
        "group = df.groupby(pd.Grouper(key='time_start', freq='M'))[['launched', 'destroyed', 'not_reach_goal']].sum()\n",
        "\n",
        "source = ColumnDataSource(group)\n",
        "\n",
        "p = figure(x_axis_type=\"datetime\")\n",
        "\n",
        "p.line(x='time_start', y='launched', line_width=2, source=source, color=TolRainbow3[0], legend_label='Запущені')\n",
        "p.line(x='time_start', y='destroyed', line_width=2, source=source, color=TolRainbow3[1], legend_label='Знищені')\n",
        "p.line(x='time_start', y='not_reach_goal', line_width=2, source=source, color=TolRainbow3[2], legend_label='Не досягли цілі')\n",
        "p.legend.location = 'top_left'\n",
        "\n",
        "p.title.text = 'Атаки по Одеській області'\n",
        "\n",
        "p.yaxis.axis_label = 'Кількість ракет чи БПЛА'\n",
        "\n",
        "box_left = pd.to_datetime('2024-10-1')\n",
        "box_right = pd.to_datetime('2024-12-1')\n",
        "\n",
        "box = BoxAnnotation(left=box_left, right=box_right,\n",
        "                    line_width=1, line_color='black', line_dash='dashed',\n",
        "                    fill_alpha=0.2, fill_color='orange')\n",
        "\n",
        "p.add_layout(box)\n",
        "\n",
        "show(p)"
      ],
      "metadata": {
        "id": "kOPd1CEMQecn"
      },
      "execution_count": null,
      "outputs": []
    },
    {
      "cell_type": "markdown",
      "source": [
        "# **Просторова база даних: відображення цілей атак**"
      ],
      "metadata": {
        "id": "8NXVRcefgggC"
      }
    },
    {
      "cell_type": "code",
      "source": [
        "#Інсталяція бібліотеки geopy\n",
        "pip install geopy==2.2.0"
      ],
      "metadata": {
        "colab": {
          "base_uri": "https://localhost:8080/"
        },
        "id": "FzoVtJIV1lnM",
        "outputId": "22be1832-927c-411c-fb02-e73b09565118"
      },
      "execution_count": 1,
      "outputs": [
        {
          "output_type": "stream",
          "name": "stdout",
          "text": [
            "Collecting geopy==2.2.0\n",
            "  Downloading geopy-2.2.0-py3-none-any.whl.metadata (6.8 kB)\n",
            "Collecting geographiclib<2,>=1.49 (from geopy==2.2.0)\n",
            "  Downloading geographiclib-1.52-py3-none-any.whl.metadata (1.0 kB)\n",
            "Downloading geopy-2.2.0-py3-none-any.whl (118 kB)\n",
            "\u001b[2K   \u001b[90m━━━━━━━━━━━━━━━━━━━━━━━━━━━━━━━━━━━━━━━━\u001b[0m \u001b[32m118.9/118.9 kB\u001b[0m \u001b[31m2.5 MB/s\u001b[0m eta \u001b[36m0:00:00\u001b[0m\n",
            "\u001b[?25hDownloading geographiclib-1.52-py3-none-any.whl (38 kB)\n",
            "Installing collected packages: geographiclib, geopy\n",
            "  Attempting uninstall: geographiclib\n",
            "    Found existing installation: geographiclib 2.0\n",
            "    Uninstalling geographiclib-2.0:\n",
            "      Successfully uninstalled geographiclib-2.0\n",
            "  Attempting uninstall: geopy\n",
            "    Found existing installation: geopy 2.4.1\n",
            "    Uninstalling geopy-2.4.1:\n",
            "      Successfully uninstalled geopy-2.4.1\n",
            "Successfully installed geographiclib-1.52 geopy-2.2.0\n"
          ]
        }
      ]
    },
    {
      "cell_type": "code",
      "source": [
        "import pandas as pd\n",
        "import time\n",
        "from geopy.geocoders import Nominatim\n",
        "from geopy.exc import GeocoderTimedOut\n",
        "\n",
        "def main():\n",
        "    df = pd.read_csv('missile_attacks_daily_1.csv', index_col=None, header=0, sep=\";\")\n",
        "\n",
        "    geolocator = Nominatim(user_agent=\"your_email@example.com\", timeout=10)\n",
        "\n",
        "    def get_location(place):\n",
        "        try:\n",
        "            location = geolocator.geocode(place)\n",
        "            time.sleep(1)\n",
        "            return location\n",
        "        except GeocoderTimedOut:\n",
        "            return get_location(place)\n",
        "\n",
        "    df['location'] = df['target'].apply(get_location)\n",
        "    df['latitude'] = df['location'].apply(lambda loc: loc.latitude if loc else None)\n",
        "    df['longitude'] = df['location'].apply(lambda loc: loc.longitude if loc else None)\n",
        "\n",
        "    df.drop(columns=['location'], inplace=True)\n",
        "\n",
        "    df.to_csv('geocoding-output.csv', index=False)\n",
        "\n",
        "if __name__ == '__main__':\n",
        "    main()"
      ],
      "metadata": {
        "id": "pPH_CT8Mghom"
      },
      "execution_count": null,
      "outputs": []
    },
    {
      "cell_type": "code",
      "source": [
        "# target_locations.py\n",
        "import pandas as pd\n",
        "from bokeh.plotting import figure, output_file, show\n",
        "from bokeh.models import ColumnDataSource, Range1d\n",
        "import numpy as np\n",
        "output_file('mapping_targets.html')\n",
        "\n",
        "df = pd.read_csv('geocoding-output.csv', sep=',')\n",
        "\n",
        "k = 6378137\n",
        "df['MercatorX'] = df['longitude'] * (k * np.pi/180.0)\n",
        "df['MercatorY'] = np.log(np.tan((90 + df['latitude']) * np.pi/360.0)) * k\n",
        "\n",
        "grouped = df.groupby(['MercatorX', 'MercatorY'])['launched'].sum().reset_index()\n",
        "\n",
        "filter = grouped['launched'] != 0\n",
        "grouped = grouped[filter]\n",
        "\n",
        "source = ColumnDataSource(grouped)\n",
        "\n",
        "left = -1000000\n",
        "right = 5000000\n",
        "bottom = 2500000\n",
        "top = 5500000\n",
        "\n",
        "p = figure(x_range=Range1d(left, right), y_range=Range1d(bottom, top))\n",
        "\n",
        "p.add_tile(\"CartoDB Positron\", retina=True)\n",
        "\n",
        "p.scatter(x='MercatorX', y='MercatorY', size=5, source=source, line_color='grey', fill_color='yellow')\n",
        "\n",
        "p.axis.visible = False\n",
        "\n",
        "show(p)"
      ],
      "metadata": {
        "id": "OdxmhCD4g35g"
      },
      "execution_count": null,
      "outputs": []
    }
  ]
}